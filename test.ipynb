{
 "cells": [
  {
   "cell_type": "code",
   "execution_count": 2,
   "outputs": [
    {
     "data": {
      "text/plain": "<Response [200]>"
     },
     "execution_count": 2,
     "metadata": {},
     "output_type": "execute_result"
    }
   ],
   "source": [
    "import requests as r\n",
    "from requests.auth import HTTPBasicAuth\n",
    "import pandas as pd\n",
    "import datetime\n",
    "\n",
    "url = \"http://jira.jestenok.com/\"\n",
    "\n",
    "date_start = datetime.date(2022, 1, 1)\n",
    "date_end = datetime.date(2022, 12, 31)\n",
    "params = f'&date_start={date_start.strftime(\"%Y-%m-%dT%H:%M:%S.%f%z\")}&date_end={date_end.strftime(\"%Y-%m-%dT%H:%M:%S.%f%z\")}'\n",
    "\n",
    "response = r.get(f'{url}rest/api/2/project', auth=HTTPBasicAuth('jestenok', '1234'))\n",
    "response"
   ],
   "metadata": {
    "collapsed": false,
    "pycharm": {
     "name": "#%%\n"
    }
   }
  },
  {
   "cell_type": "code",
   "execution_count": 3,
   "outputs": [
    {
     "data": {
      "text/plain": "b'[{\"expand\":\"description,lead,url,projectKeys\",\"self\":\"http://jira.jestenok.com/rest/api/2/project/10000\",\"id\":\"10000\",\"key\":\"DEVOPS\",\"name\":\"devops\",\"avatarUrls\":{\"48x48\":\"http://jira.jestenok.com/secure/projectavatar?avatarId=10324\",\"24x24\":\"http://jira.jestenok.com/secure/projectavatar?size=small&avatarId=10324\",\"16x16\":\"http://jira.jestenok.com/secure/projectavatar?size=xsmall&avatarId=10324\",\"32x32\":\"http://jira.jestenok.com/secure/projectavatar?size=medium&avatarId=10324\"},\"projectTypeKey\":\"software\",\"archived\":false},{\"expand\":\"description,lead,url,projectKeys\",\"self\":\"http://jira.jestenok.com/rest/api/2/project/10001\",\"id\":\"10001\",\"key\":\"HOME\",\"name\":\"home\",\"avatarUrls\":{\"48x48\":\"http://jira.jestenok.com/secure/projectavatar?avatarId=10324\",\"24x24\":\"http://jira.jestenok.com/secure/projectavatar?size=small&avatarId=10324\",\"16x16\":\"http://jira.jestenok.com/secure/projectavatar?size=xsmall&avatarId=10324\",\"32x32\":\"http://jira.jestenok.com/secure/projectavatar?size=medium&avatarId=10324\"},\"projectTypeKey\":\"software\",\"archived\":false}]'"
     },
     "execution_count": 3,
     "metadata": {},
     "output_type": "execute_result"
    }
   ],
   "source": [
    "response.content"
   ],
   "metadata": {
    "collapsed": false,
    "pycharm": {
     "name": "#%%\n"
    }
   }
  },
  {
   "cell_type": "code",
   "execution_count": null,
   "outputs": [],
   "source": [],
   "metadata": {
    "collapsed": false,
    "pycharm": {
     "name": "#%%\n"
    }
   }
  }
 ],
 "metadata": {
  "kernelspec": {
   "display_name": "Python 3",
   "language": "python",
   "name": "python3"
  },
  "language_info": {
   "codemirror_mode": {
    "name": "ipython",
    "version": 2
   },
   "file_extension": ".py",
   "mimetype": "text/x-python",
   "name": "python",
   "nbconvert_exporter": "python",
   "pygments_lexer": "ipython2",
   "version": "2.7.6"
  }
 },
 "nbformat": 4,
 "nbformat_minor": 0
}